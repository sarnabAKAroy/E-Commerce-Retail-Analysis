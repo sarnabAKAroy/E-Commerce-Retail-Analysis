{
 "cells": [
  {
   "cell_type": "code",
   "execution_count": 1,
   "id": "775459fc",
   "metadata": {},
   "outputs": [],
   "source": [
    "import pandas as pd \n",
    "import numpy as np \n",
    "import matplotlib.pyplot as plt\n",
    "import seaborn as sns\n",
    "sns.set_style('whitegrid')\n",
    "%matplotlib inline\n",
    "import warnings\n",
    "warnings.filterwarnings(\"ignore\", category=FutureWarning)"
   ]
  },
  {
   "cell_type": "code",
   "execution_count": 2,
   "id": "ab0f8f38",
   "metadata": {},
   "outputs": [],
   "source": [
    "df=pd.read_csv(r'D:\\Data_Science\\Python\\ass\\ass2\\Ecommerce - UK Retailer.csv',encoding='unicode_escape')"
   ]
  },
  {
   "cell_type": "code",
   "execution_count": 3,
   "id": "ce1e214d",
   "metadata": {},
   "outputs": [
    {
     "name": "stdout",
     "output_type": "stream",
     "text": [
      "<class 'pandas.core.frame.DataFrame'>\n",
      "RangeIndex: 541909 entries, 0 to 541908\n",
      "Data columns (total 14 columns):\n",
      " #   Column       Non-Null Count   Dtype         \n",
      "---  ------       --------------   -----         \n",
      " 0   InvoiceNo    541909 non-null  object        \n",
      " 1   StockCode    541909 non-null  object        \n",
      " 2   Description  540455 non-null  object        \n",
      " 3   Quantity     541909 non-null  int64         \n",
      " 4   InvoiceDate  541909 non-null  datetime64[ns]\n",
      " 5   UnitPrice    541909 non-null  float64       \n",
      " 6   CustomerID   406829 non-null  float64       \n",
      " 7   Country      541909 non-null  object        \n",
      " 8   Year         541909 non-null  int64         \n",
      " 9   Month        541909 non-null  int64         \n",
      " 10  Year_Month   541909 non-null  int64         \n",
      " 11  Day          541909 non-null  int64         \n",
      " 12  Hour         541909 non-null  int64         \n",
      " 13  Revenue      541909 non-null  float64       \n",
      "dtypes: datetime64[ns](1), float64(3), int64(6), object(4)\n",
      "memory usage: 57.9+ MB\n"
     ]
    }
   ],
   "source": [
    "df['InvoiceDate'] = df['InvoiceDate'].astype('datetime64[ns]')\n",
    "df['Year'] = df.InvoiceDate.dt.year\n",
    "df['Month'] = df.InvoiceDate.dt.month\n",
    "df['Year_Month']=df.InvoiceDate.map(lambda x: 100*x.year + x.month)\n",
    "df['Day']=df.InvoiceDate.dt.dayofweek\n",
    "df['Hour']=df.InvoiceDate.dt.hour\n",
    "df['Revenue']=df['Quantity'] * df['UnitPrice']\n",
    "df.head()\n",
    "df.info()"
   ]
  },
  {
   "cell_type": "markdown",
   "id": "b5e739aa",
   "metadata": {},
   "source": [
    "# 2. Check for missing values in all columns and replace them with the appropriate metric (Mean/Median/Mode)"
   ]
  },
  {
   "cell_type": "code",
   "execution_count": 4,
   "id": "1343a6a4",
   "metadata": {},
   "outputs": [
    {
     "data": {
      "text/plain": [
       "InvoiceNo           0\n",
       "StockCode           0\n",
       "Description      1454\n",
       "Quantity            0\n",
       "InvoiceDate         0\n",
       "UnitPrice           0\n",
       "CustomerID     135080\n",
       "Country             0\n",
       "Year                0\n",
       "Month               0\n",
       "Year_Month          0\n",
       "Day                 0\n",
       "Hour                0\n",
       "Revenue             0\n",
       "dtype: int64"
      ]
     },
     "execution_count": 4,
     "metadata": {},
     "output_type": "execute_result"
    }
   ],
   "source": [
    "df.isnull().sum()"
   ]
  },
  {
   "cell_type": "code",
   "execution_count": 5,
   "id": "304bede7",
   "metadata": {},
   "outputs": [],
   "source": [
    "df['CustomerID']=df[\"CustomerID\"].fillna(df[\"CustomerID\"].mean())"
   ]
  },
  {
   "cell_type": "code",
   "execution_count": 6,
   "id": "980ac960",
   "metadata": {},
   "outputs": [
    {
     "data": {
      "text/plain": [
       "InvoiceNo         0\n",
       "StockCode         0\n",
       "Description    1454\n",
       "Quantity          0\n",
       "InvoiceDate       0\n",
       "UnitPrice         0\n",
       "CustomerID        0\n",
       "Country           0\n",
       "Year              0\n",
       "Month             0\n",
       "Year_Month        0\n",
       "Day               0\n",
       "Hour              0\n",
       "Revenue           0\n",
       "dtype: int64"
      ]
     },
     "execution_count": 6,
     "metadata": {},
     "output_type": "execute_result"
    }
   ],
   "source": [
    "df.isnull().sum()"
   ]
  },
  {
   "cell_type": "code",
   "execution_count": 7,
   "id": "bf71c607",
   "metadata": {},
   "outputs": [],
   "source": [
    "df.dropna(inplace=True)"
   ]
  },
  {
   "cell_type": "code",
   "execution_count": 8,
   "id": "ff22aadf",
   "metadata": {},
   "outputs": [
    {
     "data": {
      "text/plain": [
       "InvoiceNo      0\n",
       "StockCode      0\n",
       "Description    0\n",
       "Quantity       0\n",
       "InvoiceDate    0\n",
       "UnitPrice      0\n",
       "CustomerID     0\n",
       "Country        0\n",
       "Year           0\n",
       "Month          0\n",
       "Year_Month     0\n",
       "Day            0\n",
       "Hour           0\n",
       "Revenue        0\n",
       "dtype: int64"
      ]
     },
     "execution_count": 8,
     "metadata": {},
     "output_type": "execute_result"
    }
   ],
   "source": [
    "df.isnull().sum()"
   ]
  },
  {
   "cell_type": "markdown",
   "id": "35a6d167",
   "metadata": {},
   "source": [
    "#    3. Remove duplicate rows"
   ]
  },
  {
   "cell_type": "code",
   "execution_count": 9,
   "id": "d387a20d",
   "metadata": {},
   "outputs": [
    {
     "data": {
      "text/html": [
       "<div>\n",
       "<style scoped>\n",
       "    .dataframe tbody tr th:only-of-type {\n",
       "        vertical-align: middle;\n",
       "    }\n",
       "\n",
       "    .dataframe tbody tr th {\n",
       "        vertical-align: top;\n",
       "    }\n",
       "\n",
       "    .dataframe thead th {\n",
       "        text-align: right;\n",
       "    }\n",
       "</style>\n",
       "<table border=\"1\" class=\"dataframe\">\n",
       "  <thead>\n",
       "    <tr style=\"text-align: right;\">\n",
       "      <th></th>\n",
       "      <th>InvoiceNo</th>\n",
       "      <th>StockCode</th>\n",
       "      <th>Description</th>\n",
       "      <th>Quantity</th>\n",
       "      <th>InvoiceDate</th>\n",
       "      <th>UnitPrice</th>\n",
       "      <th>CustomerID</th>\n",
       "      <th>Country</th>\n",
       "      <th>Year</th>\n",
       "      <th>Month</th>\n",
       "      <th>Year_Month</th>\n",
       "      <th>Day</th>\n",
       "      <th>Hour</th>\n",
       "      <th>Revenue</th>\n",
       "    </tr>\n",
       "  </thead>\n",
       "  <tbody>\n",
       "    <tr>\n",
       "      <th>517</th>\n",
       "      <td>536409</td>\n",
       "      <td>21866</td>\n",
       "      <td>UNION JACK FLAG LUGGAGE TAG</td>\n",
       "      <td>1</td>\n",
       "      <td>2010-12-01 11:45:00</td>\n",
       "      <td>1.25</td>\n",
       "      <td>17908.0</td>\n",
       "      <td>United Kingdom</td>\n",
       "      <td>2010</td>\n",
       "      <td>12</td>\n",
       "      <td>201012</td>\n",
       "      <td>2</td>\n",
       "      <td>11</td>\n",
       "      <td>1.25</td>\n",
       "    </tr>\n",
       "    <tr>\n",
       "      <th>527</th>\n",
       "      <td>536409</td>\n",
       "      <td>22866</td>\n",
       "      <td>HAND WARMER SCOTTY DOG DESIGN</td>\n",
       "      <td>1</td>\n",
       "      <td>2010-12-01 11:45:00</td>\n",
       "      <td>2.10</td>\n",
       "      <td>17908.0</td>\n",
       "      <td>United Kingdom</td>\n",
       "      <td>2010</td>\n",
       "      <td>12</td>\n",
       "      <td>201012</td>\n",
       "      <td>2</td>\n",
       "      <td>11</td>\n",
       "      <td>2.10</td>\n",
       "    </tr>\n",
       "    <tr>\n",
       "      <th>537</th>\n",
       "      <td>536409</td>\n",
       "      <td>22900</td>\n",
       "      <td>SET 2 TEA TOWELS I LOVE LONDON</td>\n",
       "      <td>1</td>\n",
       "      <td>2010-12-01 11:45:00</td>\n",
       "      <td>2.95</td>\n",
       "      <td>17908.0</td>\n",
       "      <td>United Kingdom</td>\n",
       "      <td>2010</td>\n",
       "      <td>12</td>\n",
       "      <td>201012</td>\n",
       "      <td>2</td>\n",
       "      <td>11</td>\n",
       "      <td>2.95</td>\n",
       "    </tr>\n",
       "    <tr>\n",
       "      <th>539</th>\n",
       "      <td>536409</td>\n",
       "      <td>22111</td>\n",
       "      <td>SCOTTIE DOG HOT WATER BOTTLE</td>\n",
       "      <td>1</td>\n",
       "      <td>2010-12-01 11:45:00</td>\n",
       "      <td>4.95</td>\n",
       "      <td>17908.0</td>\n",
       "      <td>United Kingdom</td>\n",
       "      <td>2010</td>\n",
       "      <td>12</td>\n",
       "      <td>201012</td>\n",
       "      <td>2</td>\n",
       "      <td>11</td>\n",
       "      <td>4.95</td>\n",
       "    </tr>\n",
       "    <tr>\n",
       "      <th>555</th>\n",
       "      <td>536412</td>\n",
       "      <td>22327</td>\n",
       "      <td>ROUND SNACK BOXES SET OF 4 SKULLS</td>\n",
       "      <td>1</td>\n",
       "      <td>2010-12-01 11:49:00</td>\n",
       "      <td>2.95</td>\n",
       "      <td>17920.0</td>\n",
       "      <td>United Kingdom</td>\n",
       "      <td>2010</td>\n",
       "      <td>12</td>\n",
       "      <td>201012</td>\n",
       "      <td>2</td>\n",
       "      <td>11</td>\n",
       "      <td>2.95</td>\n",
       "    </tr>\n",
       "    <tr>\n",
       "      <th>...</th>\n",
       "      <td>...</td>\n",
       "      <td>...</td>\n",
       "      <td>...</td>\n",
       "      <td>...</td>\n",
       "      <td>...</td>\n",
       "      <td>...</td>\n",
       "      <td>...</td>\n",
       "      <td>...</td>\n",
       "      <td>...</td>\n",
       "      <td>...</td>\n",
       "      <td>...</td>\n",
       "      <td>...</td>\n",
       "      <td>...</td>\n",
       "      <td>...</td>\n",
       "    </tr>\n",
       "    <tr>\n",
       "      <th>541675</th>\n",
       "      <td>581538</td>\n",
       "      <td>22068</td>\n",
       "      <td>BLACK PIRATE TREASURE CHEST</td>\n",
       "      <td>1</td>\n",
       "      <td>2011-12-09 11:34:00</td>\n",
       "      <td>0.39</td>\n",
       "      <td>14446.0</td>\n",
       "      <td>United Kingdom</td>\n",
       "      <td>2011</td>\n",
       "      <td>12</td>\n",
       "      <td>201112</td>\n",
       "      <td>4</td>\n",
       "      <td>11</td>\n",
       "      <td>0.39</td>\n",
       "    </tr>\n",
       "    <tr>\n",
       "      <th>541689</th>\n",
       "      <td>581538</td>\n",
       "      <td>23318</td>\n",
       "      <td>BOX OF 6 MINI VINTAGE CRACKERS</td>\n",
       "      <td>1</td>\n",
       "      <td>2011-12-09 11:34:00</td>\n",
       "      <td>2.49</td>\n",
       "      <td>14446.0</td>\n",
       "      <td>United Kingdom</td>\n",
       "      <td>2011</td>\n",
       "      <td>12</td>\n",
       "      <td>201112</td>\n",
       "      <td>4</td>\n",
       "      <td>11</td>\n",
       "      <td>2.49</td>\n",
       "    </tr>\n",
       "    <tr>\n",
       "      <th>541692</th>\n",
       "      <td>581538</td>\n",
       "      <td>22992</td>\n",
       "      <td>REVOLVER WOODEN RULER</td>\n",
       "      <td>1</td>\n",
       "      <td>2011-12-09 11:34:00</td>\n",
       "      <td>1.95</td>\n",
       "      <td>14446.0</td>\n",
       "      <td>United Kingdom</td>\n",
       "      <td>2011</td>\n",
       "      <td>12</td>\n",
       "      <td>201112</td>\n",
       "      <td>4</td>\n",
       "      <td>11</td>\n",
       "      <td>1.95</td>\n",
       "    </tr>\n",
       "    <tr>\n",
       "      <th>541699</th>\n",
       "      <td>581538</td>\n",
       "      <td>22694</td>\n",
       "      <td>WICKER STAR</td>\n",
       "      <td>1</td>\n",
       "      <td>2011-12-09 11:34:00</td>\n",
       "      <td>2.10</td>\n",
       "      <td>14446.0</td>\n",
       "      <td>United Kingdom</td>\n",
       "      <td>2011</td>\n",
       "      <td>12</td>\n",
       "      <td>201112</td>\n",
       "      <td>4</td>\n",
       "      <td>11</td>\n",
       "      <td>2.10</td>\n",
       "    </tr>\n",
       "    <tr>\n",
       "      <th>541701</th>\n",
       "      <td>581538</td>\n",
       "      <td>23343</td>\n",
       "      <td>JUMBO BAG VINTAGE CHRISTMAS</td>\n",
       "      <td>1</td>\n",
       "      <td>2011-12-09 11:34:00</td>\n",
       "      <td>2.08</td>\n",
       "      <td>14446.0</td>\n",
       "      <td>United Kingdom</td>\n",
       "      <td>2011</td>\n",
       "      <td>12</td>\n",
       "      <td>201112</td>\n",
       "      <td>4</td>\n",
       "      <td>11</td>\n",
       "      <td>2.08</td>\n",
       "    </tr>\n",
       "  </tbody>\n",
       "</table>\n",
       "<p>5268 rows × 14 columns</p>\n",
       "</div>"
      ],
      "text/plain": [
       "       InvoiceNo StockCode                        Description  Quantity  \\\n",
       "517       536409     21866        UNION JACK FLAG LUGGAGE TAG         1   \n",
       "527       536409     22866      HAND WARMER SCOTTY DOG DESIGN         1   \n",
       "537       536409     22900    SET 2 TEA TOWELS I LOVE LONDON          1   \n",
       "539       536409     22111       SCOTTIE DOG HOT WATER BOTTLE         1   \n",
       "555       536412     22327  ROUND SNACK BOXES SET OF 4 SKULLS         1   \n",
       "...          ...       ...                                ...       ...   \n",
       "541675    581538     22068        BLACK PIRATE TREASURE CHEST         1   \n",
       "541689    581538     23318     BOX OF 6 MINI VINTAGE CRACKERS         1   \n",
       "541692    581538     22992             REVOLVER WOODEN RULER          1   \n",
       "541699    581538     22694                       WICKER STAR          1   \n",
       "541701    581538     23343       JUMBO BAG VINTAGE CHRISTMAS          1   \n",
       "\n",
       "               InvoiceDate  UnitPrice  CustomerID         Country  Year  \\\n",
       "517    2010-12-01 11:45:00       1.25     17908.0  United Kingdom  2010   \n",
       "527    2010-12-01 11:45:00       2.10     17908.0  United Kingdom  2010   \n",
       "537    2010-12-01 11:45:00       2.95     17908.0  United Kingdom  2010   \n",
       "539    2010-12-01 11:45:00       4.95     17908.0  United Kingdom  2010   \n",
       "555    2010-12-01 11:49:00       2.95     17920.0  United Kingdom  2010   \n",
       "...                    ...        ...         ...             ...   ...   \n",
       "541675 2011-12-09 11:34:00       0.39     14446.0  United Kingdom  2011   \n",
       "541689 2011-12-09 11:34:00       2.49     14446.0  United Kingdom  2011   \n",
       "541692 2011-12-09 11:34:00       1.95     14446.0  United Kingdom  2011   \n",
       "541699 2011-12-09 11:34:00       2.10     14446.0  United Kingdom  2011   \n",
       "541701 2011-12-09 11:34:00       2.08     14446.0  United Kingdom  2011   \n",
       "\n",
       "        Month  Year_Month  Day  Hour  Revenue  \n",
       "517        12      201012    2    11     1.25  \n",
       "527        12      201012    2    11     2.10  \n",
       "537        12      201012    2    11     2.95  \n",
       "539        12      201012    2    11     4.95  \n",
       "555        12      201012    2    11     2.95  \n",
       "...       ...         ...  ...   ...      ...  \n",
       "541675     12      201112    4    11     0.39  \n",
       "541689     12      201112    4    11     2.49  \n",
       "541692     12      201112    4    11     1.95  \n",
       "541699     12      201112    4    11     2.10  \n",
       "541701     12      201112    4    11     2.08  \n",
       "\n",
       "[5268 rows x 14 columns]"
      ]
     },
     "execution_count": 9,
     "metadata": {},
     "output_type": "execute_result"
    }
   ],
   "source": [
    "df[df.duplicated()]"
   ]
  },
  {
   "cell_type": "code",
   "execution_count": 10,
   "id": "3e73b611",
   "metadata": {},
   "outputs": [],
   "source": [
    "df=df.drop_duplicates(keep=False)"
   ]
  },
  {
   "cell_type": "code",
   "execution_count": 11,
   "id": "7bed0cfe",
   "metadata": {},
   "outputs": [
    {
     "data": {
      "text/html": [
       "<div>\n",
       "<style scoped>\n",
       "    .dataframe tbody tr th:only-of-type {\n",
       "        vertical-align: middle;\n",
       "    }\n",
       "\n",
       "    .dataframe tbody tr th {\n",
       "        vertical-align: top;\n",
       "    }\n",
       "\n",
       "    .dataframe thead th {\n",
       "        text-align: right;\n",
       "    }\n",
       "</style>\n",
       "<table border=\"1\" class=\"dataframe\">\n",
       "  <thead>\n",
       "    <tr style=\"text-align: right;\">\n",
       "      <th></th>\n",
       "      <th>InvoiceNo</th>\n",
       "      <th>StockCode</th>\n",
       "      <th>Description</th>\n",
       "      <th>Quantity</th>\n",
       "      <th>InvoiceDate</th>\n",
       "      <th>UnitPrice</th>\n",
       "      <th>CustomerID</th>\n",
       "      <th>Country</th>\n",
       "      <th>Year</th>\n",
       "      <th>Month</th>\n",
       "      <th>Year_Month</th>\n",
       "      <th>Day</th>\n",
       "      <th>Hour</th>\n",
       "      <th>Revenue</th>\n",
       "    </tr>\n",
       "  </thead>\n",
       "  <tbody>\n",
       "  </tbody>\n",
       "</table>\n",
       "</div>"
      ],
      "text/plain": [
       "Empty DataFrame\n",
       "Columns: [InvoiceNo, StockCode, Description, Quantity, InvoiceDate, UnitPrice, CustomerID, Country, Year, Month, Year_Month, Day, Hour, Revenue]\n",
       "Index: []"
      ]
     },
     "execution_count": 11,
     "metadata": {},
     "output_type": "execute_result"
    }
   ],
   "source": [
    "df[df.duplicated()]"
   ]
  },
  {
   "cell_type": "markdown",
   "id": "a99fbf3d",
   "metadata": {},
   "source": [
    "# 4. Remove rows which have negative values in Quantity column"
   ]
  },
  {
   "cell_type": "code",
   "execution_count": 12,
   "id": "7e027c1b",
   "metadata": {},
   "outputs": [],
   "source": [
    "df=df[df['Quantity']>=0]"
   ]
  },
  {
   "cell_type": "code",
   "execution_count": 13,
   "id": "683ab4e4",
   "metadata": {},
   "outputs": [
    {
     "name": "stdout",
     "output_type": "stream",
     "text": [
      "<class 'pandas.core.frame.DataFrame'>\n",
      "Int64Index: 520615 entries, 0 to 541908\n",
      "Data columns (total 14 columns):\n",
      " #   Column       Non-Null Count   Dtype         \n",
      "---  ------       --------------   -----         \n",
      " 0   InvoiceNo    520615 non-null  object        \n",
      " 1   StockCode    520615 non-null  object        \n",
      " 2   Description  520615 non-null  object        \n",
      " 3   Quantity     520615 non-null  int64         \n",
      " 4   InvoiceDate  520615 non-null  datetime64[ns]\n",
      " 5   UnitPrice    520615 non-null  float64       \n",
      " 6   CustomerID   520615 non-null  float64       \n",
      " 7   Country      520615 non-null  object        \n",
      " 8   Year         520615 non-null  int64         \n",
      " 9   Month        520615 non-null  int64         \n",
      " 10  Year_Month   520615 non-null  int64         \n",
      " 11  Day          520615 non-null  int64         \n",
      " 12  Hour         520615 non-null  int64         \n",
      " 13  Revenue      520615 non-null  float64       \n",
      "dtypes: datetime64[ns](1), float64(3), int64(6), object(4)\n",
      "memory usage: 59.6+ MB\n"
     ]
    }
   ],
   "source": [
    "df.info()"
   ]
  },
  {
   "cell_type": "markdown",
   "id": "4675647f",
   "metadata": {},
   "source": [
    "# 5. Add the columns - Month, Day and Hour for the invoice"
   ]
  },
  {
   "cell_type": "markdown",
   "id": "d23a86d8",
   "metadata": {},
   "source": [
    "- Already added in Line 3."
   ]
  },
  {
   "cell_type": "code",
   "execution_count": 14,
   "id": "598fcb69",
   "metadata": {},
   "outputs": [
    {
     "data": {
      "text/html": [
       "<div>\n",
       "<style scoped>\n",
       "    .dataframe tbody tr th:only-of-type {\n",
       "        vertical-align: middle;\n",
       "    }\n",
       "\n",
       "    .dataframe tbody tr th {\n",
       "        vertical-align: top;\n",
       "    }\n",
       "\n",
       "    .dataframe thead th {\n",
       "        text-align: right;\n",
       "    }\n",
       "</style>\n",
       "<table border=\"1\" class=\"dataframe\">\n",
       "  <thead>\n",
       "    <tr style=\"text-align: right;\">\n",
       "      <th></th>\n",
       "      <th>InvoiceNo</th>\n",
       "      <th>StockCode</th>\n",
       "      <th>Description</th>\n",
       "      <th>Quantity</th>\n",
       "      <th>InvoiceDate</th>\n",
       "      <th>UnitPrice</th>\n",
       "      <th>CustomerID</th>\n",
       "      <th>Country</th>\n",
       "      <th>Year</th>\n",
       "      <th>Month</th>\n",
       "      <th>Year_Month</th>\n",
       "      <th>Day</th>\n",
       "      <th>Hour</th>\n",
       "      <th>Revenue</th>\n",
       "    </tr>\n",
       "  </thead>\n",
       "  <tbody>\n",
       "    <tr>\n",
       "      <th>0</th>\n",
       "      <td>536365</td>\n",
       "      <td>85123A</td>\n",
       "      <td>WHITE HANGING HEART T-LIGHT HOLDER</td>\n",
       "      <td>6</td>\n",
       "      <td>2010-12-01 08:26:00</td>\n",
       "      <td>2.55</td>\n",
       "      <td>17850.0</td>\n",
       "      <td>United Kingdom</td>\n",
       "      <td>2010</td>\n",
       "      <td>12</td>\n",
       "      <td>201012</td>\n",
       "      <td>2</td>\n",
       "      <td>8</td>\n",
       "      <td>15.30</td>\n",
       "    </tr>\n",
       "    <tr>\n",
       "      <th>1</th>\n",
       "      <td>536365</td>\n",
       "      <td>71053</td>\n",
       "      <td>WHITE METAL LANTERN</td>\n",
       "      <td>6</td>\n",
       "      <td>2010-12-01 08:26:00</td>\n",
       "      <td>3.39</td>\n",
       "      <td>17850.0</td>\n",
       "      <td>United Kingdom</td>\n",
       "      <td>2010</td>\n",
       "      <td>12</td>\n",
       "      <td>201012</td>\n",
       "      <td>2</td>\n",
       "      <td>8</td>\n",
       "      <td>20.34</td>\n",
       "    </tr>\n",
       "    <tr>\n",
       "      <th>2</th>\n",
       "      <td>536365</td>\n",
       "      <td>84406B</td>\n",
       "      <td>CREAM CUPID HEARTS COAT HANGER</td>\n",
       "      <td>8</td>\n",
       "      <td>2010-12-01 08:26:00</td>\n",
       "      <td>2.75</td>\n",
       "      <td>17850.0</td>\n",
       "      <td>United Kingdom</td>\n",
       "      <td>2010</td>\n",
       "      <td>12</td>\n",
       "      <td>201012</td>\n",
       "      <td>2</td>\n",
       "      <td>8</td>\n",
       "      <td>22.00</td>\n",
       "    </tr>\n",
       "    <tr>\n",
       "      <th>3</th>\n",
       "      <td>536365</td>\n",
       "      <td>84029G</td>\n",
       "      <td>KNITTED UNION FLAG HOT WATER BOTTLE</td>\n",
       "      <td>6</td>\n",
       "      <td>2010-12-01 08:26:00</td>\n",
       "      <td>3.39</td>\n",
       "      <td>17850.0</td>\n",
       "      <td>United Kingdom</td>\n",
       "      <td>2010</td>\n",
       "      <td>12</td>\n",
       "      <td>201012</td>\n",
       "      <td>2</td>\n",
       "      <td>8</td>\n",
       "      <td>20.34</td>\n",
       "    </tr>\n",
       "    <tr>\n",
       "      <th>4</th>\n",
       "      <td>536365</td>\n",
       "      <td>84029E</td>\n",
       "      <td>RED WOOLLY HOTTIE WHITE HEART.</td>\n",
       "      <td>6</td>\n",
       "      <td>2010-12-01 08:26:00</td>\n",
       "      <td>3.39</td>\n",
       "      <td>17850.0</td>\n",
       "      <td>United Kingdom</td>\n",
       "      <td>2010</td>\n",
       "      <td>12</td>\n",
       "      <td>201012</td>\n",
       "      <td>2</td>\n",
       "      <td>8</td>\n",
       "      <td>20.34</td>\n",
       "    </tr>\n",
       "  </tbody>\n",
       "</table>\n",
       "</div>"
      ],
      "text/plain": [
       "  InvoiceNo StockCode                          Description  Quantity  \\\n",
       "0    536365    85123A   WHITE HANGING HEART T-LIGHT HOLDER         6   \n",
       "1    536365     71053                  WHITE METAL LANTERN         6   \n",
       "2    536365    84406B       CREAM CUPID HEARTS COAT HANGER         8   \n",
       "3    536365    84029G  KNITTED UNION FLAG HOT WATER BOTTLE         6   \n",
       "4    536365    84029E       RED WOOLLY HOTTIE WHITE HEART.         6   \n",
       "\n",
       "          InvoiceDate  UnitPrice  CustomerID         Country  Year  Month  \\\n",
       "0 2010-12-01 08:26:00       2.55     17850.0  United Kingdom  2010     12   \n",
       "1 2010-12-01 08:26:00       3.39     17850.0  United Kingdom  2010     12   \n",
       "2 2010-12-01 08:26:00       2.75     17850.0  United Kingdom  2010     12   \n",
       "3 2010-12-01 08:26:00       3.39     17850.0  United Kingdom  2010     12   \n",
       "4 2010-12-01 08:26:00       3.39     17850.0  United Kingdom  2010     12   \n",
       "\n",
       "   Year_Month  Day  Hour  Revenue  \n",
       "0      201012    2     8    15.30  \n",
       "1      201012    2     8    20.34  \n",
       "2      201012    2     8    22.00  \n",
       "3      201012    2     8    20.34  \n",
       "4      201012    2     8    20.34  "
      ]
     },
     "execution_count": 14,
     "metadata": {},
     "output_type": "execute_result"
    }
   ],
   "source": [
    "df.head()"
   ]
  },
  {
   "cell_type": "markdown",
   "id": "1436e2ec",
   "metadata": {},
   "source": [
    "# 6. How many orders made by the customers?"
   ]
  },
  {
   "cell_type": "code",
   "execution_count": 15,
   "id": "31f6bef4",
   "metadata": {},
   "outputs": [
    {
     "name": "stdout",
     "output_type": "stream",
     "text": [
      "The total no. of orders made by the customers is 520615\n"
     ]
    }
   ],
   "source": [
    "print(\"The total no. of orders made by the customers is\",df['Quantity'].value_counts().sum())"
   ]
  },
  {
   "cell_type": "markdown",
   "id": "127462c8",
   "metadata": {},
   "source": [
    "# 7. TOP 5 customers with higher number of orders"
   ]
  },
  {
   "cell_type": "code",
   "execution_count": 16,
   "id": "8ff35aec",
   "metadata": {},
   "outputs": [
    {
     "name": "stdout",
     "output_type": "stream",
     "text": [
      "      CustomerID         Country  InvoiceNo\n",
      "0        12346.0  United Kingdom          1\n",
      "1        12347.0         Iceland        182\n",
      "2        12348.0         Finland         31\n",
      "3        12349.0           Italy         73\n",
      "4        12350.0          Norway         17\n",
      "...          ...             ...        ...\n",
      "4351     18280.0  United Kingdom         10\n",
      "4352     18281.0  United Kingdom          7\n",
      "4353     18282.0  United Kingdom         12\n",
      "4354     18283.0  United Kingdom        688\n",
      "4355     18287.0  United Kingdom         70\n",
      "\n",
      "[4356 rows x 3 columns]\n"
     ]
    }
   ],
   "source": [
    "top_order=df.groupby(by=['CustomerID','Country'], as_index=False)['InvoiceNo'].count()\n",
    "print(top_order)"
   ]
  },
  {
   "cell_type": "code",
   "execution_count": 17,
   "id": "fbe262cc",
   "metadata": {},
   "outputs": [
    {
     "name": "stdout",
     "output_type": "stream",
     "text": [
      "\n",
      "The top 5 Customers are:\n"
     ]
    },
    {
     "data": {
      "text/html": [
       "<div>\n",
       "<style scoped>\n",
       "    .dataframe tbody tr th:only-of-type {\n",
       "        vertical-align: middle;\n",
       "    }\n",
       "\n",
       "    .dataframe tbody tr th {\n",
       "        vertical-align: top;\n",
       "    }\n",
       "\n",
       "    .dataframe thead th {\n",
       "        text-align: right;\n",
       "    }\n",
       "</style>\n",
       "<table border=\"1\" class=\"dataframe\">\n",
       "  <thead>\n",
       "    <tr style=\"text-align: right;\">\n",
       "      <th></th>\n",
       "      <th>CustomerID</th>\n",
       "      <th>Country</th>\n",
       "      <th>InvoiceNo</th>\n",
       "    </tr>\n",
       "  </thead>\n",
       "  <tbody>\n",
       "    <tr>\n",
       "      <th>2176</th>\n",
       "      <td>15287.69057</td>\n",
       "      <td>United Kingdom</td>\n",
       "      <td>131300</td>\n",
       "    </tr>\n",
       "    <tr>\n",
       "      <th>4028</th>\n",
       "      <td>17841.00000</td>\n",
       "      <td>United Kingdom</td>\n",
       "      <td>7523</td>\n",
       "    </tr>\n",
       "    <tr>\n",
       "      <th>1888</th>\n",
       "      <td>14911.00000</td>\n",
       "      <td>EIRE</td>\n",
       "      <td>5667</td>\n",
       "    </tr>\n",
       "    <tr>\n",
       "      <th>1298</th>\n",
       "      <td>14096.00000</td>\n",
       "      <td>United Kingdom</td>\n",
       "      <td>5111</td>\n",
       "    </tr>\n",
       "    <tr>\n",
       "      <th>334</th>\n",
       "      <td>12748.00000</td>\n",
       "      <td>United Kingdom</td>\n",
       "      <td>4243</td>\n",
       "    </tr>\n",
       "  </tbody>\n",
       "</table>\n",
       "</div>"
      ],
      "text/plain": [
       "       CustomerID         Country  InvoiceNo\n",
       "2176  15287.69057  United Kingdom     131300\n",
       "4028  17841.00000  United Kingdom       7523\n",
       "1888  14911.00000            EIRE       5667\n",
       "1298  14096.00000  United Kingdom       5111\n",
       "334   12748.00000  United Kingdom       4243"
      ]
     },
     "execution_count": 17,
     "metadata": {},
     "output_type": "execute_result"
    }
   ],
   "source": [
    "print('\\nThe top 5 Customers are:')\n",
    "top_order.sort_values(by='InvoiceNo', ascending=False).head()"
   ]
  },
  {
   "cell_type": "markdown",
   "id": "f1c18949",
   "metadata": {},
   "source": [
    "# 8. How much money spent by the customers?"
   ]
  },
  {
   "cell_type": "code",
   "execution_count": 18,
   "id": "14182417",
   "metadata": {},
   "outputs": [
    {
     "name": "stdout",
     "output_type": "stream",
     "text": [
      "      CustomerID         Country   Revenue\n",
      "0        12346.0  United Kingdom  77183.60\n",
      "1        12347.0         Iceland   4310.00\n",
      "2        12348.0         Finland   1797.24\n",
      "3        12349.0           Italy   1757.55\n",
      "4        12350.0          Norway    334.40\n",
      "...          ...             ...       ...\n",
      "4351     18280.0  United Kingdom    180.60\n",
      "4352     18281.0  United Kingdom     80.82\n",
      "4353     18282.0  United Kingdom    178.05\n",
      "4354     18283.0  United Kingdom   1998.68\n",
      "4355     18287.0  United Kingdom   1837.28\n",
      "\n",
      "[4356 rows x 3 columns]\n"
     ]
    }
   ],
   "source": [
    "money=df.groupby(by=['CustomerID','Country'], as_index=False)['Revenue'].sum()\n",
    "print(money)"
   ]
  },
  {
   "cell_type": "markdown",
   "id": "249778e3",
   "metadata": {},
   "source": [
    "# 9. TOP 5 customers with highest money spent"
   ]
  },
  {
   "cell_type": "code",
   "execution_count": 19,
   "id": "8845a6c0",
   "metadata": {},
   "outputs": [
    {
     "data": {
      "text/html": [
       "<div>\n",
       "<style scoped>\n",
       "    .dataframe tbody tr th:only-of-type {\n",
       "        vertical-align: middle;\n",
       "    }\n",
       "\n",
       "    .dataframe tbody tr th {\n",
       "        vertical-align: top;\n",
       "    }\n",
       "\n",
       "    .dataframe thead th {\n",
       "        text-align: right;\n",
       "    }\n",
       "</style>\n",
       "<table border=\"1\" class=\"dataframe\">\n",
       "  <thead>\n",
       "    <tr style=\"text-align: right;\">\n",
       "      <th></th>\n",
       "      <th>CustomerID</th>\n",
       "      <th>Country</th>\n",
       "      <th>Revenue</th>\n",
       "    </tr>\n",
       "  </thead>\n",
       "  <tbody>\n",
       "    <tr>\n",
       "      <th>2176</th>\n",
       "      <td>15287.69057</td>\n",
       "      <td>United Kingdom</td>\n",
       "      <td>1694485.90</td>\n",
       "    </tr>\n",
       "    <tr>\n",
       "      <th>1698</th>\n",
       "      <td>14646.00000</td>\n",
       "      <td>Netherlands</td>\n",
       "      <td>280206.02</td>\n",
       "    </tr>\n",
       "    <tr>\n",
       "      <th>4219</th>\n",
       "      <td>18102.00000</td>\n",
       "      <td>United Kingdom</td>\n",
       "      <td>259657.30</td>\n",
       "    </tr>\n",
       "    <tr>\n",
       "      <th>3746</th>\n",
       "      <td>17450.00000</td>\n",
       "      <td>United Kingdom</td>\n",
       "      <td>194230.79</td>\n",
       "    </tr>\n",
       "    <tr>\n",
       "      <th>3026</th>\n",
       "      <td>16446.00000</td>\n",
       "      <td>United Kingdom</td>\n",
       "      <td>168472.50</td>\n",
       "    </tr>\n",
       "  </tbody>\n",
       "</table>\n",
       "</div>"
      ],
      "text/plain": [
       "       CustomerID         Country     Revenue\n",
       "2176  15287.69057  United Kingdom  1694485.90\n",
       "1698  14646.00000     Netherlands   280206.02\n",
       "4219  18102.00000  United Kingdom   259657.30\n",
       "3746  17450.00000  United Kingdom   194230.79\n",
       "3026  16446.00000  United Kingdom   168472.50"
      ]
     },
     "execution_count": 19,
     "metadata": {},
     "output_type": "execute_result"
    }
   ],
   "source": [
    "money.sort_values(by='Revenue', ascending=False).head()"
   ]
  },
  {
   "cell_type": "markdown",
   "id": "4f831768",
   "metadata": {},
   "source": [
    "# 10. How many orders per month?"
   ]
  },
  {
   "cell_type": "code",
   "execution_count": 20,
   "id": "8082e1a4",
   "metadata": {},
   "outputs": [
    {
     "data": {
      "image/png": "[encoded data removed]",
      "text/plain": [
       "<Figure size 1296x432 with 1 Axes>"
      ]
     },
     "metadata": {
      "needs_background": "light"
     },
     "output_type": "display_data"
    },
    {
     "name": "stdout",
     "output_type": "stream",
     "text": [
      "[201012]    1566\n",
      "[201101]    1089\n",
      "[201102]    1101\n",
      "[201103]    1459\n",
      "[201104]    1255\n",
      "[201105]    1689\n",
      "[201106]    1537\n",
      "[201107]    1484\n",
      "[201108]    1367\n",
      "[201109]    1858\n",
      "[201110]    2070\n",
      "[201111]    2830\n",
      "[201112]     829\n",
      "Name: Year_Month, dtype: int64\n"
     ]
    }
   ],
   "source": [
    "opm=df.groupby('InvoiceNo')['Year_Month'].unique().value_counts().sort_index().plot(kind='bar',figsize=(18,6))\n",
    "opm.set_xlabel('Month',fontsize=13)\n",
    "opm.set_ylabel('Number of Orders',fontsize=13)\n",
    "opm.set_title('Number of orders for different Months (1st Dec 2010 - 9th Dec 2011)',fontsize=16)\n",
    "opm.set_xticklabels(('Dec_10','Jan_11','Feb_11','Mar_11','Apr_11','May_11','Jun_11','July_11','Aug_11',\n",
    "                     'Sep_11','Oct_11','Nov_11','Dec_11'), rotation='horizontal', fontsize=13)\n",
    "plt.show()\n",
    "print(df.groupby('InvoiceNo')['Year_Month'].unique().value_counts().sort_index())"
   ]
  },
  {
   "cell_type": "markdown",
   "id": "05df6481",
   "metadata": {},
   "source": [
    "# 11. How many orders per day?"
   ]
  },
  {
   "cell_type": "code",
   "execution_count": 21,
   "id": "6bdb6093",
   "metadata": {},
   "outputs": [
    {
     "data": {
      "image/png": "[encoded data removed]",
      "text/plain": [
       "<Figure size 1296x432 with 1 Axes>"
      ]
     },
     "metadata": {
      "needs_background": "light"
     },
     "output_type": "display_data"
    },
    {
     "name": "stdout",
     "output_type": "stream",
     "text": [
      "[0]    3152\n",
      "[1]    3594\n",
      "[2]    3728\n",
      "[3]    4276\n",
      "[4]    3177\n",
      "[6]    2207\n",
      "Name: Day, dtype: int64\n"
     ]
    }
   ],
   "source": [
    "opd=df.groupby('InvoiceNo')['Day'].unique().value_counts().sort_index().plot(kind='bar',figsize=(18,6))\n",
    "opd.set_xlabel('Day',fontsize=13)\n",
    "opd.set_ylabel('Number of Orders',fontsize=13)\n",
    "opd.set_title('Number of orders for different days (1st Dec 2010 - 9th Dec 2011)',fontsize=16)\n",
    "opd.set_xticklabels(('Mon(0)','Tue(1)','Wed(2)','Thu(3)','Fri(4)','Sun(6)'), rotation='horizontal', fontsize=13)\n",
    "#Saturday is dropped as no orders were placed on any saturday.\n",
    "plt.show()\n",
    "print(df.groupby('InvoiceNo')['Day'].unique().value_counts().sort_index())"
   ]
  },
  {
   "cell_type": "markdown",
   "id": "431b20d4",
   "metadata": {},
   "source": [
    "# 12. How many orders per hour?"
   ]
  },
  {
   "cell_type": "code",
   "execution_count": 22,
   "id": "b50446a2",
   "metadata": {},
   "outputs": [
    {
     "data": {
      "image/png": "[encoded data removed]",
      "text/plain": [
       "<Figure size 1080x432 with 1 Axes>"
      ]
     },
     "metadata": {
      "needs_background": "light"
     },
     "output_type": "display_data"
    },
    {
     "name": "stdout",
     "output_type": "stream",
     "text": [
      "[12]        3241\n",
      "[13]        2774\n",
      "[14]        2473\n",
      "[11]        2424\n",
      "[10]        2377\n",
      "[15]        2362\n",
      "[9]         1501\n",
      "[16]        1347\n",
      "[17]         675\n",
      "[8]          567\n",
      "[18]         198\n",
      "[19]         146\n",
      "[7]           29\n",
      "[20]          18\n",
      "[11, 12]       1\n",
      "[6]            1\n",
      "Name: Hour, dtype: int64\n"
     ]
    }
   ],
   "source": [
    "oph=df.groupby('InvoiceNo')[\"Hour\"].unique().value_counts().plot(kind='bar',figsize=(15,6))\n",
    "oph.set_xlabel('Hour',fontsize=15)\n",
    "oph.set_ylabel('Number of Orders',fontsize=15)\n",
    "oph.set_title('Number of orders for different Hours',fontsize=15)\n",
    "plt.show()\n",
    "print(df.groupby('InvoiceNo')['Hour'].unique().value_counts())"
   ]
  },
  {
   "cell_type": "markdown",
   "id": "05657da3",
   "metadata": {},
   "source": [
    "# 13. How many orders for each country?"
   ]
  },
  {
   "cell_type": "code",
   "execution_count": 23,
   "id": "adc0ff5c",
   "metadata": {},
   "outputs": [
    {
     "data": {
      "image/png": "[encoded data removed]",
      "text/plain": [
       "<Figure size 1296x864 with 1 Axes>"
      ]
     },
     "metadata": {
      "needs_background": "light"
     },
     "output_type": "display_data"
    },
    {
     "name": "stdout",
     "output_type": "stream",
     "text": [
      "Country\n",
      "United Kingdom          475790\n",
      "Germany                   9012\n",
      "France                    8378\n",
      "EIRE                      7872\n",
      "Spain                     2475\n",
      "Netherlands               2363\n",
      "Belgium                   2031\n",
      "Switzerland               1951\n",
      "Portugal                  1484\n",
      "Australia                 1183\n",
      "Norway                    1072\n",
      "Italy                      758\n",
      "Channel Islands            746\n",
      "Finland                    685\n",
      "Cyprus                     593\n",
      "Sweden                     449\n",
      "Unspecified                438\n",
      "Austria                    398\n",
      "Denmark                    380\n",
      "Poland                     330\n",
      "Japan                      321\n",
      "Israel                     289\n",
      "Hong Kong                  276\n",
      "Singapore                  222\n",
      "Iceland                    182\n",
      "USA                        179\n",
      "Canada                     151\n",
      "Greece                     145\n",
      "Malta                      112\n",
      "United Arab Emirates        68\n",
      "European Community          60\n",
      "RSA                         58\n",
      "Lebanon                     45\n",
      "Lithuania                   35\n",
      "Brazil                      32\n",
      "Czech Republic              25\n",
      "Bahrain                     18\n",
      "Saudi Arabia                 9\n",
      "Name: InvoiceNo, dtype: int64\n"
     ]
    }
   ],
   "source": [
    "opc=df.groupby('Country')['InvoiceNo'].count().sort_values().plot(kind='barh',figsize=(18,12))\n",
    "opc.set_xlabel('Country',fontsize=15)\n",
    "opc.set_ylabel('Number of Orders',fontsize=15)\n",
    "opc.set_title('Number of orders for each country',fontsize=15)\n",
    "plt.show()\n",
    "print(df.groupby('Country')['InvoiceNo'].count().sort_values(ascending=False))"
   ]
  },
  {
   "cell_type": "markdown",
   "id": "fd7e5f94",
   "metadata": {},
   "source": [
    "# 14. Orders trend across months"
   ]
  },
  {
   "cell_type": "code",
   "execution_count": 24,
   "id": "e5bba1a9",
   "metadata": {
    "scrolled": false
   },
   "outputs": [
    {
     "data": {
      "image/png": "[encoded data removed]",
      "text/plain": [
       "<Figure size 1152x720 with 2 Axes>"
      ]
     },
     "metadata": {
      "needs_background": "light"
     },
     "output_type": "display_data"
    }
   ],
   "source": [
    "fig = plt.figure(figsize=(16,10))\n",
    "otm = fig.add_subplot(111)\n",
    "otm.set_xlabel('Month',fontsize=15)\n",
    "otm.set_ylabel('Total Amount Spent ($)',fontsize=15)\n",
    "otm.set_title('Total Amount Spent for Months',fontsize=15)\n",
    "otm.bar(df.groupby(by=['Year_Month'])['Revenue'].sum().index.tolist()[1:],df.groupby(by=['Year_Month'])['Revenue'].sum()[1:],\n",
    "        label='Amount Spent by Month')\n",
    "otm1 = otm.twinx()\n",
    "otm1.set_ylabel('Percentage Change of Total Amount Spent (%)',fontsize=15)\n",
    "otm1.plot(df.groupby(by=['Year_Month'])['Revenue'].sum().index.tolist()[1:], df.groupby(by=['Year_Month'])['Revenue'].sum()[1:].pct_change(),\n",
    "         label='Percentage change of total amount spent (%)',color='red')\n",
    "otm.legend(loc='upper left')\n",
    "otm1.legend(loc='upper right')\n",
    "plt.show()"
   ]
  },
  {
   "cell_type": "markdown",
   "id": "7901f58d",
   "metadata": {},
   "source": [
    "# 15. How much money spent by each country?"
   ]
  },
  {
   "cell_type": "code",
   "execution_count": 25,
   "id": "299a7ad6",
   "metadata": {},
   "outputs": [
    {
     "data": {
      "image/png": "[encoded data removed]",
      "text/plain": [
       "<Figure size 1296x864 with 1 Axes>"
      ]
     },
     "metadata": {
      "needs_background": "light"
     },
     "output_type": "display_data"
    },
    {
     "name": "stdout",
     "output_type": "stream",
     "text": [
      "Country\n",
      "United Kingdom          8957894.104\n",
      "Netherlands              285446.340\n",
      "EIRE                     282827.080\n",
      "Germany                  228489.660\n",
      "France                   209535.630\n",
      "Australia                138386.310\n",
      "Spain                     61540.010\n",
      "Switzerland               57045.300\n",
      "Belgium                   41196.340\n",
      "Sweden                    38357.330\n",
      "Japan                     37416.370\n",
      "Norway                    36165.440\n",
      "Portugal                  33621.550\n",
      "Finland                   22546.080\n",
      "Singapore                 21279.290\n",
      "Channel Islands           20430.640\n",
      "Denmark                   18955.340\n",
      "Italy                     17483.240\n",
      "Hong Kong                 15274.200\n",
      "Cyprus                    13419.470\n",
      "Austria                   10198.680\n",
      "Israel                     8123.560\n",
      "Poland                     7334.650\n",
      "Greece                     4760.520\n",
      "Unspecified                4732.090\n",
      "Iceland                    4310.000\n",
      "Canada                     3666.380\n",
      "USA                        3580.390\n",
      "Malta                      2725.590\n",
      "United Arab Emirates       1902.280\n",
      "Lebanon                    1693.880\n",
      "Lithuania                  1661.060\n",
      "European Community         1300.250\n",
      "Brazil                     1143.600\n",
      "RSA                        1002.310\n",
      "Czech Republic              826.740\n",
      "Bahrain                     754.140\n",
      "Saudi Arabia                145.920\n",
      "Name: Revenue, dtype: float64\n"
     ]
    }
   ],
   "source": [
    "mpc=df.groupby('Country')['Revenue'].sum().sort_values().plot(kind='barh',figsize=(18,12))\n",
    "mpc.set_xlabel('Country',fontsize=15)\n",
    "mpc.set_ylabel('Total money spent ($)',fontsize=15)\n",
    "mpc.set_title('Money spent by each Country',fontsize=15)\n",
    "plt.show()\n",
    "print(df.groupby('Country')['Revenue'].sum().sort_values(ascending=False))"
   ]
  }
 ],
 "metadata": {
  "kernelspec": {
   "display_name": "Python 3 (ipykernel)",
   "language": "python",
   "name": "python3"
  },
  "language_info": {
   "codemirror_mode": {
    "name": "ipython",
    "version": 3
   },
   "file_extension": ".py",
   "mimetype": "text/x-python",
   "name": "python",
   "nbconvert_exporter": "python",
   "pygments_lexer": "ipython3",
   "version": "3.9.7"
  }
 },
 "nbformat": 4,
 "nbformat_minor": 5
}
